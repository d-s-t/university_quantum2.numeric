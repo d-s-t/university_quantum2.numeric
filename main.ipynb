{
 "cells": [
  {
   "cell_type": "markdown",
   "metadata": {},
   "source": [
    "# 1  Numeric code preparation\n",
    "use $ {}^1\\!H $ bound with $ K^- $ to preper and check your code"
   ]
  },
  {
   "cell_type": "code",
   "execution_count": 1,
   "metadata": {},
   "outputs": [],
   "source": [
    "from utils import const, plotly_show_config, to_latex\n",
    "from preset import H1, H2, He4, K\n",
    "import numpy as np\n",
    "from sys import float_info\n",
    "from numerov_model import Numerov"
   ]
  },
  {
   "cell_type": "markdown",
   "metadata": {},
   "source": [
    "## 1.2\n",
    "calculate the ground state of $ {}^1\\!H K^-$\n",
    "use Numerov method to calculate $ u\\left(r;E\\right) $ for the energies $ E = (-1.1R_y, -1.05R_y, -1R_y, -0.95R_y, -0.9R_y) $ \n",
    "\n",
    "use $N=10^4,\\; R=10a_B $\n",
    "\n",
    "plot $ u\\left(r;E\\right) $\n",
    "\n",
    "do not forget to normalize the function \n",
    "$$ |u|^2 = \\int_{r}{u(r)^{2}dr} $$\n",
    "$$ \\tilde{u} = \\frac{u}{|u|}"
   ]
  },
  {
   "cell_type": "markdown",
   "metadata": {},
   "source": [
    "### code"
   ]
  },
  {
   "cell_type": "code",
   "execution_count": null,
   "metadata": {},
   "outputs": [],
   "source": [
    "from utils import const, plotly_show_config, to_latex\n",
    "from preset import H1, H2, He4, K\n",
    "import numpy as np\n",
    "from sys import float_info\n",
    "from numerov_model import Numerov\n",
    "from IPython.display import display, Math\n",
    "\n",
    "p = H1 + K\n",
    "v = lambda r: (- const.alpha * p.Z * const.hbarc / r).to('MeV')\n",
    "m = Numerov(p, v, n=1)\n",
    "N = int(1e4)\n",
    "r = np.linspace(float_info.epsilon , 10, N)\n",
    "E = np.array([-1.1, -1.05, -1, -0.95, -0.9])\n",
    "display(Math(rf'\\mu = {p.m:.3f}'), \n",
    "        Math(rf'R_y = {p.R_y:.3f}'),\n",
    "        Math(rf'a_B = {p.a_B:.3f}'),\n",
    "        Math(r'V(r) = -\\frac{\\alpha Z \\hbar c}{r}'),\n",
    "        Math(rf'N = {N:g}'),\n",
    "        Math(rf'R = 10\\cdot a_B = {10*p.a_B:g}'))\n",
    "u = m.ure(r, E)"
   ]
  },
  {
   "cell_type": "code",
   "execution_count": null,
   "metadata": {},
   "outputs": [],
   "source": [
    "from plotly import graph_objects as go\n",
    "fig = go.Figure()\n",
    "for i in range(len(E)):\n",
    "    for j in range(1):\n",
    "        fig.add_trace(go.Scatter(x=r*m.a_B, y=u[:,i, j], mode='lines', name=f'$ E={E[i]}R_y $'))\n",
    "fig.update_layout(title=r'$ \\text{Q1.2 - } {}^{1}\\!H \\text{ base state } \\left|n=1,l=0\\right> $')\n",
    "fig.update_layout(margin=dict(t=50, b=0, l=0, r=0), width=800, height=450)\n",
    "fig.update_xaxes(title=r'$ r \\left[fm\\right] $') \\\n",
    "    .update_yaxes(title=r'$ u\\left(r\\right) $')\n",
    "fig.write_image(r\"./plots/1.2.svg\", width=800, height=450,format='svg',engine='kaleido')\n",
    "fig.write_image(r\"./plots/1.2.png\", width=800, height=450,format='png',engine='kaleido')\n",
    "plotly_show_config['toImageButtonOptions']['filename'] = 'q1.2'\n",
    "fig.write_html(r\"./plots/1.2.html\", config=plotly_show_config)\n",
    "fig.show(config=plotly_show_config)\n",
    "plotly_show_config['toImageButtonOptions']['filename'] = 'unset'"
   ]
  },
  {
   "cell_type": "markdown",
   "metadata": {},
   "source": [
    "## 1.4 \n",
    "use the _root finding_ method (Numerov.find_root) to find the ground state energy E of the system\n",
    "\n",
    "use $ R=20a_B $ and do it for $ N = (10^2, 10^3, 10^4, 10^5) $\n",
    "\n",
    "calcculate the _relative error_  $ \\eta = \\left| 1-\\frac{E(N,R)}{-\\frac{R_y}{n^2}} \\right| = \\left| 1+\\frac{R_y \\cdot E(N,R)}{n^2} \\right| $ and plot $ \\eta(N) $"
   ]
  },
  {
   "cell_type": "markdown",
   "metadata": {},
   "source": [
    "### code"
   ]
  },
  {
   "cell_type": "markdown",
   "metadata": {},
   "source": [
    "#### calculations"
   ]
  },
  {
   "cell_type": "code",
   "execution_count": null,
   "metadata": {},
   "outputs": [],
   "source": [
    "from utils import const, plotly_show_config, to_latex\n",
    "from preset import H1, H2, He4, K\n",
    "import numpy as np\n",
    "from sys import float_info\n",
    "from numerov_model import Numerov\n",
    "from IPython.display import display, Math\n",
    "p = H1 + K\n",
    "v = lambda r: (- const.alpha * p.Z * const.hbarc / r).to('MeV')\n",
    "m = Numerov(p, v, n=3)\n",
    "print(m.W(np.ones((2,3))*p.R_y, np.ones(4)*p.a_B).shape)"
   ]
  },
  {
   "cell_type": "code",
   "execution_count": null,
   "metadata": {},
   "outputs": [],
   "source": [
    "from utils import const, plotly_show_config, to_latex\n",
    "from preset import H1, H2, He4, K\n",
    "import numpy as np\n",
    "from sys import float_info\n",
    "from numerov_model import Numerov\n",
    "from IPython.display import display, Math\n",
    "\n",
    "p = H1 + K\n",
    "v = lambda r: (- const.alpha * p.Z * const.hbarc / r).to('MeV')\n",
    "m = Numerov(p, v, n=1)\n",
    "Ns = np.array([int(1e2), int(1e3), int(1e4), int(1e5)])\n",
    "etta = np.zeros((*Ns.shape, 1), dtype=float)\n",
    "for i, N in enumerate(Ns):\n",
    "    r = np.linspace(float_info.epsilon, 20, N)\n",
    "    E = m.find_root(-1.05, -0.95, r).E\n",
    "    print(E[0])\n",
    "    etta[i] = m.relative_error(E)\n",
    "etta = etta.squeeze()"
   ]
  },
  {
   "cell_type": "markdown",
   "metadata": {},
   "source": [
    "#### visualisation"
   ]
  },
  {
   "cell_type": "code",
   "execution_count": null,
   "metadata": {},
   "outputs": [],
   "source": [
    "from plotly import graph_objects as go\n",
    "fig = go.Figure() \\\n",
    "    .add_trace(go.Scatter(x=Ns, y=etta, mode='lines+markers')) \\\n",
    "    .update_layout(title=r'$ \\text{Q1.4 - } {}^{1}\\!H \\text{ base state } \\left|n=1,l=0\\right> $',\n",
    "                   margin=dict(t=50, b=0, l=0, r=120), width=800, height=450) \\\n",
    "    .update_xaxes(type='log', title=r'$ N $') \\\n",
    "    .update_yaxes(type='log', title=r'$ \\eta $')\n",
    "fig.write_image(r\"./plots/1.4.svg\", width=800, height=450,format='svg',engine='kaleido')\n",
    "plotly_show_config['toImageButtonOptions']['filename'] = 'q1.4'\n",
    "fig.show(config=plotly_show_config)\n",
    "plotly_show_config['toImageButtonOptions']['filename'] = 'unset'"
   ]
  },
  {
   "cell_type": "markdown",
   "metadata": {},
   "source": [
    "## 1.5\n",
    "calculate the energy levels of the system for the quantum states $ n=(1,2,3),\\, l=(0,1,2) $\n",
    "\n",
    "here use $ N=10^4 $ but chose $ R $ wisely for each state $ \\left(n, l\\right) $\n",
    "\n",
    "ensure relative error $ \\eta \\sim 10^-6 $   \n",
    "[here I used $ \\eta < 3\\cdot10^-6 $]\n",
    "\n",
    "generate a table of the energy $ E$, the relative error $\\eta$, and the radios $ r = \\sqrt{\\braket{r^2}}  $\n",
    "\n",
    "\n",
    "$$ \\braket{r^2} = \\int_{0}^{R}{u^2(r)r^2dr}\n"
   ]
  },
  {
   "cell_type": "code",
   "execution_count": null,
   "metadata": {},
   "outputs": [],
   "source": [
    "from utils import const, plotly_show_config, to_latex\n",
    "from preset import H1, H2, He4, K\n",
    "import numpy as np\n",
    "from sys import float_info\n",
    "from numerov_model import Numerov\n",
    "from IPython.display import display, Math\n",
    "\n",
    "N = 20_000\n",
    "p = H1 + K\n",
    "v = lambda r: (- const.alpha * p.Z * const.hbarc / r).to('MeV')\n",
    "n = 3\n",
    "m = Numerov(p, v, n=n)\n",
    "r = np.linspace(float_info.epsilon, 20, N)\n",
    "df2 = m.find_root(-5, 5, r)\n",
    "eta = m.relative_error(df.E, n)\n",
    "print(f'n={n}, E={df2.E}, eta={eta}')"
   ]
  },
  {
   "cell_type": "code",
   "execution_count": null,
   "metadata": {},
   "outputs": [],
   "source": [
    "E[0][-1]"
   ]
  },
  {
   "cell_type": "code",
   "execution_count": null,
   "metadata": {},
   "outputs": [],
   "source": []
  }
 ],
 "metadata": {
  "kernelspec": {
   "display_name": ".venv",
   "language": "python",
   "name": "python3"
  },
  "language_info": {
   "codemirror_mode": {
    "name": "ipython",
    "version": 3
   },
   "file_extension": ".py",
   "mimetype": "text/x-python",
   "name": "python",
   "nbconvert_exporter": "python",
   "pygments_lexer": "ipython3",
   "version": "3.13.1"
  }
 },
 "nbformat": 4,
 "nbformat_minor": 2
}
