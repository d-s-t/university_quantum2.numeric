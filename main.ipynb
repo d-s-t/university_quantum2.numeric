{
 "cells": [
  {
   "cell_type": "markdown",
   "metadata": {},
   "source": [
    "# 1  Numeric code preparation\n",
    "use $ {}^1\\!H $ bound with $ K^- $ to preper and check your code"
   ]
  },
  {
   "cell_type": "code",
   "execution_count": null,
   "metadata": {},
   "outputs": [],
   "source": [
    "from utils import const, plotly_show_config, to_latex\n",
    "from preset import H1, H2, He4, K\n",
    "import numpy as np\n",
    "from sys import float_info\n",
    "from numerov_model import Numerov"
   ]
  },
  {
   "cell_type": "markdown",
   "metadata": {},
   "source": [
    "## 1.2\n",
    "calculate the ground state of $ {}^1\\!H K^-$\n",
    "use Numerov method to calculate $ u\\left(r;E\\right) $ for the energies $ E = (-1.1R_y, -1.05R_y, -1R_y, -0.95R_y, -0.9R_y) $ \n",
    "\n",
    "use $N=10^4,\\; R=10a_B $\n",
    "\n",
    "plot $ u\\left(r;E\\right) $\n",
    "\n",
    "do not forget to normalize the function ???"
   ]
  },
  {
   "cell_type": "code",
   "execution_count": null,
   "metadata": {},
   "outputs": [],
   "source": [
    "p = H1 + K\n",
    "v = lambda r: (- const.alpha * p.Z * const.hbarc / r).to('MeV')\n",
    "m = Numerov(p, v, n=1)\n",
    "N = int(1e4)\n",
    "r = np.linspace(float_info.epsilon , 10, N)\n",
    "E = np.array([-1.1, -1.05, -1, -0.95, -0.9])\n",
    "u = m.ure(r, E)\n",
    "\n",
    "from plotly import graph_objects as go\n",
    "fig = go.Figure()\n",
    "for i in range(len(E)):\n",
    "    fig.add_trace(go.Scatter(x=r, y=u[:,i], mode='lines', name=f'E={E[i]}'))\n",
    "fig.update_layout(title=r'$ \\text{Q3.1.2 - } {}^{1}\\!H \\text{ base state } \\left(n=1,l=0\\right) $') \\\n",
    "    .update_xaxes(title=r'$ r \\; \\left[a_{B} = '+ to_latex(m.a_B) + r'\\right] $') \\\n",
    "    .update_yaxes(title=r'$ u\\left(r\\right) \\; \\left[fm\\right] $', range=[-100, 100])\n",
    "# fig.write_image(\"/plots/q3.1.2.svg\")\n",
    "plotly_show_config['toImageButtonOptions']['filename'] = 'q1.2'\n",
    "fig.show(config=plotly_show_config)\n",
    "plotly_show_config['toImageButtonOptions']['filename'] = 'unset'"
   ]
  },
  {
   "cell_type": "markdown",
   "metadata": {},
   "source": [
    "## 1.4 \n",
    "use the _root finding_ method (Numerov.find_root) to find the ground state energy E of the system\n",
    "\n",
    "use $ R=20a_B $ and do it for $ N = (10^2, 10^3, 10^4, 10^5) $\n",
    "\n",
    "calcculate the _relative error_  $ \\eta $ and plot $ \\eta(N) $"
   ]
  },
  {
   "cell_type": "code",
   "execution_count": null,
   "metadata": {},
   "outputs": [],
   "source": [
    "p = H1 + K\n",
    "v = lambda r: (- const.alpha * p.Z * const.hbarc / r).to('MeV')\n",
    "m = Numerov(H1, v, n=1)\n",
    "Ns = np.array([int(1e2), int(1e3), int(1e4), int(1e5)])\n",
    "etta = np.zeros(Ns.shape)\n",
    "for i, N in enumerate(Ns):\n",
    "    r = np.linspace(float_info.epsilon, 20, N)\n",
    "    E = m.find_root(-1.05, -0.95, r)[0]\n",
    "    etta[i] = m.relative_error(E)\n",
    "\n",
    "from plotly import graph_objects as go\n",
    "fig = go.Figure() \\\n",
    "    .add_trace(go.Scatter(x=Ns, y=etta, mode='lines+markers')) \\\n",
    "    .update_layout(title=r'$ \\text{Q3.1.4 - } {}^{1}\\!H \\text{ base state } \\left(n=1,l=0\\right) $') \\\n",
    "    .update_xaxes(type='log', title=r'$ N $') \\\n",
    "    .update_yaxes(type='log', title=r'$ \\eta $')\n",
    "plotly_show_config['toImageButtonOptions']['filename'] = 'q3.1.4'\n",
    "fig.show(config=plotly_show_config)\n",
    "plotly_show_config['toImageButtonOptions']['filename'] = 'unset'"
   ]
  },
  {
   "cell_type": "markdown",
   "metadata": {},
   "source": [
    "## 1.5\n",
    "calculate the energy levels of the system for the quantum states $ n=(1,2,3),\\, l=(0,1,2) $\n",
    "\n",
    "here use $ N=10^4 $ but chose $ R $ wisely for each state $ \\left(n, l\\right) $\n",
    "\n",
    "ensure relative error $ \\eta \\sim 10^-6 $   \n",
    "[here I used $ \\eta < 3\\cdot10^-6 $]\n",
    "\n",
    "generate a table of the energy $ E$, the relative error $\\eta$, and the radios $ r = \\sqrt{\\braket{r^2}}  $\n"
   ]
  },
  {
   "cell_type": "code",
   "execution_count": null,
   "metadata": {},
   "outputs": [],
   "source": []
  }
 ],
 "metadata": {
  "language_info": {
   "name": "python"
  }
 },
 "nbformat": 4,
 "nbformat_minor": 2
}
